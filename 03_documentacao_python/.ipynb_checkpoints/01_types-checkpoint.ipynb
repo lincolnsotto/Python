{
 "cells": [
  {
   "cell_type": "code",
   "execution_count": 28,
   "metadata": {},
   "outputs": [
    {
     "name": "stdout",
     "output_type": "stream",
     "text": [
      "<class 'int'>\n",
      "3\n",
      "4\n",
      "2\n",
      "6\n",
      "9\n",
      "4\n",
      "<class 'float'>\n",
      "2.5 3.5 5.0 6.25\n"
     ]
    }
   ],
   "source": [
    "#Basic data types\n",
    "\n",
    "#Numbers integer and floats\n",
    "\n",
    "x = 3\n",
    "print(type(x))\n",
    "print(x)\n",
    "print(x+1)\n",
    "print(x-1)\n",
    "print(x*2)\n",
    "print(x**2)\n",
    "x += 1\n",
    "print(x)\n",
    "\n",
    "y = 2.5\n",
    "print(type(y))\n",
    "print(y, y + 1, y * 2, y **2)"
   ]
  },
  {
   "cell_type": "code",
   "execution_count": 37,
   "metadata": {},
   "outputs": [
    {
     "name": "stdout",
     "output_type": "stream",
     "text": [
      "<class 'bool'>\n",
      "False\n",
      "True\n",
      "False\n",
      "True\n"
     ]
    }
   ],
   "source": [
    "#Booleans\n",
    "\n",
    "t = True\n",
    "f = False\n",
    "\n",
    "print(type(t))\n",
    "print(t and f)\n",
    "print(t or f)\n",
    "print(not t)\n",
    "print(t != f)"
   ]
  },
  {
   "cell_type": "code",
   "execution_count": 2,
   "metadata": {},
   "outputs": [
    {
     "name": "stdout",
     "output_type": "stream",
     "text": [
      "hello\n",
      "world\n",
      "hello world\n",
      "5\n",
      "python\n",
      "don't,test\n",
      "c:\\users\\macbookair\\lincoln\n",
      "Lincoln\n",
      "LINCOLN\n",
      "lincoln\n",
      "lincoln\n",
      "ninconn\n",
      "lincol\n",
      "li\n",
      "aBc\n"
     ]
    }
   ],
   "source": [
    "# Strings\n",
    "\n",
    "py = 'py'  'thon'\n",
    "hello = 'hello'\n",
    "world = \"world\"\n",
    "phrase = \"don't,test\"\n",
    "file1 = r'c:\\users\\macbookair\\lincoln'\n",
    "print(hello)\n",
    "print(world)\n",
    "print(hello+\" \"+world)\n",
    "print(len(hello))\n",
    "\n",
    "# Some Methods using string\n",
    "\n",
    "s = \"lincoln\"\n",
    "print(py)\n",
    "print(phrase)\n",
    "print(file1)\n",
    "print(s.capitalize())         #first character upper\n",
    "print(s.upper())              #all character upper\n",
    "print(s.rjust(7))             #right-justify a string\n",
    "print(s.center(7))            #center a string\n",
    "print(s.replace('l','n'))     #replace character\n",
    "print('  lincol  '.strip())   #leading and trailing whitespace\n",
    "print(s[0:2])\n",
    "print('a'+'B'+'c')\n"
   ]
  },
  {
   "cell_type": "code",
   "execution_count": null,
   "metadata": {},
   "outputs": [],
   "source": []
  },
  {
   "cell_type": "code",
   "execution_count": null,
   "metadata": {},
   "outputs": [],
   "source": []
  }
 ],
 "metadata": {
  "kernelspec": {
   "display_name": "Python 3",
   "language": "python",
   "name": "python3"
  },
  "language_info": {
   "codemirror_mode": {
    "name": "ipython",
    "version": 3
   },
   "file_extension": ".py",
   "mimetype": "text/x-python",
   "name": "python",
   "nbconvert_exporter": "python",
   "pygments_lexer": "ipython3",
   "version": "3.6.4"
  }
 },
 "nbformat": 4,
 "nbformat_minor": 2
}
